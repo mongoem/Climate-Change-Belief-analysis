{
  "nbformat": 4,
  "nbformat_minor": 0,
  "metadata": {
    "colab": {
      "provenance": [],
      "authorship_tag": "ABX9TyP6fb+MFLNr4pEQ6Zw/L4bY",
      "include_colab_link": true
    },
    "kernelspec": {
      "name": "python3",
      "display_name": "Python 3"
    },
    "language_info": {
      "name": "python"
    }
  },
  "cells": [
    {
      "cell_type": "markdown",
      "metadata": {
        "id": "view-in-github",
        "colab_type": "text"
      },
      "source": [
        "<a href=\"https://colab.research.google.com/github/mongoem/Climate-Change-Belief-analysis/blob/main/movie_recommender.ipynb\" target=\"_parent\"><img src=\"https://colab.research.google.com/assets/colab-badge.svg\" alt=\"Open In Colab\"/></a>"
      ]
    },
    {
      "cell_type": "code",
      "execution_count": 1,
      "metadata": {
        "colab": {
          "base_uri": "https://localhost:8080/"
        },
        "id": "Miaip8NUAHNm",
        "outputId": "f6db5a9b-b68d-4c2e-b6a4-8bf9ca4c5a93"
      },
      "outputs": [
        {
          "output_type": "stream",
          "name": "stdout",
          "text": [
            "Archive:  /content/genome_scores.zip\n",
            "replace genome_scores.csv? [y]es, [n]o, [A]ll, [N]one, [r]ename: y\n",
            "  inflating: genome_scores.csv       \n"
          ]
        }
      ],
      "source": [
        "# prompt: unzip /content/genome_scores.zip\n",
        "\n",
        "!unzip /content/genome_scores.zip\n"
      ]
    },
    {
      "cell_type": "code",
      "source": [
        "import pandas as pd\n",
        "import numpy as np\n",
        "from sklearn.metrics.pairwise import cosine_similarity\n",
        "from sklearn.metrics import mean_squared_error, mean_absolute_error\n",
        "from sklearn.model_selection import train_test_split\n",
        "\n",
        "# Load the datasets\n",
        "genome_scores = pd.read_csv('genome_scores.csv')\n",
        "movies = pd.read_csv('movies.csv')\n",
        "train = pd.read_csv('train.csv')\n",
        "\n",
        "# Splitting the train.csv into new training and test sets\n",
        "train_data, test_data = train_test_split(train, test_size=0.25, random_state=42)\n",
        "\n",
        "# Preparing movie features based on genome_scores\n",
        "# Pivot the genome_scores table to get a movie-feature matrix\n",
        "movie_feature_matrix = genome_scores.pivot(index='movieId', columns='tagId', values='relevance').fillna(0)\n",
        "\n",
        "# Create a mapping from movie ID to index in the feature matrix\n",
        "movie_index = {movie: i for i, movie in enumerate(movie_feature_matrix.index)}\n",
        "\n",
        "# Compute the cosine similarity between movies\n",
        "similarity_matrix = cosine_similarity(movie_feature_matrix)\n",
        "\n",
        "# Adjust predict_rating to use the movie_index for locating the correct movie in the similarity matrix\n",
        "def predict_rating(user_id, movie_id):\n",
        "    if movie_id not in movie_index:\n",
        "        return np.nan  # Return NaN if movie_id is not in the similarity matrix\n",
        "\n",
        "    idx = movie_index[movie_id]\n",
        "    similar_movies = list(enumerate(similarity_matrix[idx]))\n",
        "    similar_movies = sorted(similar_movies, key=lambda x: x[1], reverse=True)\n",
        "    top_similar = similar_movies[1:11]  # Skip the first entry as it's the movie itself\n",
        "\n",
        "    top_similar_movie_ids = [movie_feature_matrix.index[i[0]] for i in top_similar]\n",
        "    user_ratings = train_data[train_data['userId'] == user_id]\n",
        "    top_similar_rated_movies = user_ratings[user_ratings['movieId'].isin(top_similar_movie_ids)]\n",
        "\n",
        "    if not top_similar_rated_movies.empty:\n",
        "        return np.dot(top_similar_rated_movies['rating'], top_similar_rated_movies['movieId']) / np.sum(top_similar_rated_movies['movieId'])\n",
        "    else:\n",
        "        return np.nan  # Return NaN if the user hasn't rated any similar movies\n",
        "\n",
        "# Function to predict ratings for the test set\n",
        "def predict_ratings_for_test_set(test_set):\n",
        "    predictions = []\n",
        "    actuals = []\n",
        "\n",
        "    for index, row in test_set.iterrows():\n",
        "        user_id = row['userId']\n",
        "        movie_id = row['movieId']\n",
        "        actual_rating = row['rating']\n",
        "\n",
        "        predicted_rating = predict_rating(user_id, movie_id)\n",
        "\n",
        "        if not np.isnan(predicted_rating):\n",
        "            predictions.append(predicted_rating)\n",
        "            actuals.append(actual_rating)\n",
        "\n",
        "    return actuals, predictions\n",
        "\n",
        "# Evaluate the model\n",
        "actuals, predictions = predict_ratings_for_test_set(test_data)\n",
        "\n",
        "# Calculate MAE and RMSE\n",
        "mae = mean_absolute_error(actuals, predictions)\n",
        "rmse = np.sqrt(mean_squared_error(actuals, predictions))\n",
        "\n",
        "print(f\"Mean Absolute Error (MAE): {mae}\")\n",
        "print(f\"Root Mean Squared Error (RMSE): {rmse}\")\n"
      ],
      "metadata": {
        "id": "h7adOHFNgIID"
      },
      "execution_count": null,
      "outputs": []
    }
  ]
}