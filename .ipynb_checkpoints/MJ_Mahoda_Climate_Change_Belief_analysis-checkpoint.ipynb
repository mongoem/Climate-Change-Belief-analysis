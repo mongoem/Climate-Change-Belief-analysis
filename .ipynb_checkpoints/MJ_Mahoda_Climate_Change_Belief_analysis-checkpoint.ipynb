{
 "cells": [
  {
   "cell_type": "markdown",
   "id": "0a2fe9f9-b885-4583-a1b4-f65e788a9788",
   "metadata": {},
   "source": [
    "## 1. Importing Packages"
   ]
  },
  {
   "cell_type": "code",
   "execution_count": 2,
   "id": "c975a5a7-4a51-4139-99cb-609afb9edab1",
   "metadata": {},
   "outputs": [
    {
     "name": "stderr",
     "output_type": "stream",
     "text": [
      "[nltk_data] Downloading package punkt to\n",
      "[nltk_data]     C:\\Users\\f3519961\\AppData\\Roaming\\nltk_data...\n",
      "[nltk_data]   Package punkt is already up-to-date!\n",
      "[nltk_data] Downloading package stopwords to\n",
      "[nltk_data]     C:\\Users\\f3519961\\AppData\\Roaming\\nltk_data...\n",
      "[nltk_data]   Package stopwords is already up-to-date!\n",
      "[nltk_data] Downloading package wordnet to\n",
      "[nltk_data]     C:\\Users\\f3519961\\AppData\\Roaming\\nltk_data...\n",
      "[nltk_data]   Package wordnet is already up-to-date!\n"
     ]
    }
   ],
   "source": [
    "import numpy as np\n",
    "import pandas as pd\n",
    "import matplotlib.pyplot as plt\n",
    "import string\n",
    "import nltk\n",
    "from nltk.corpus import stopwords\n",
    "from nltk.tokenize import TreebankWordTokenizer\n",
    "from nltk.tokenize import word_tokenize\n",
    "from nltk.stem import PorterStemmer, WordNetLemmatizer\n",
    "\n",
    "# Download NLTK resources\n",
    "nltk.download('punkt')\n",
    "nltk.download('stopwords')\n",
    "nltk.download('wordnet')\n",
    "\n",
    "from sklearn.model_selection import train_test_split, GridSearchCV\n",
    "from sklearn.linear_model import LogisticRegression\n",
    "from sklearn.preprocessing import StandardScaler\n",
    "from sklearn.metrics import f1_score, precision_score, recall_score, accuracy_score, confusion_matrix"
   ]
  },
  {
   "cell_type": "markdown",
   "id": "5be8163a-438c-461d-b9b1-096c10121aee",
   "metadata": {},
   "source": [
    "## 2. Loading the Data"
   ]
  },
  {
   "cell_type": "code",
   "execution_count": 3,
   "id": "a2276e86-1d24-46bc-888f-440474cfd348",
   "metadata": {},
   "outputs": [],
   "source": [
    "train = pd.read_csv('train.csv')\n",
    "test = pd.read_csv('test.csv')"
   ]
  },
  {
   "cell_type": "code",
   "execution_count": 4,
   "id": "a1d40b53-869d-4774-90f5-d7a632313c8b",
   "metadata": {},
   "outputs": [
    {
     "data": {
      "text/html": [
       "<div>\n",
       "<style scoped>\n",
       "    .dataframe tbody tr th:only-of-type {\n",
       "        vertical-align: middle;\n",
       "    }\n",
       "\n",
       "    .dataframe tbody tr th {\n",
       "        vertical-align: top;\n",
       "    }\n",
       "\n",
       "    .dataframe thead th {\n",
       "        text-align: right;\n",
       "    }\n",
       "</style>\n",
       "<table border=\"1\" class=\"dataframe\">\n",
       "  <thead>\n",
       "    <tr style=\"text-align: right;\">\n",
       "      <th></th>\n",
       "      <th>sentiment</th>\n",
       "      <th>message</th>\n",
       "      <th>tweetid</th>\n",
       "    </tr>\n",
       "  </thead>\n",
       "  <tbody>\n",
       "    <tr>\n",
       "      <th>0</th>\n",
       "      <td>1</td>\n",
       "      <td>PolySciMajor EPA chief doesn't think carbon di...</td>\n",
       "      <td>625221</td>\n",
       "    </tr>\n",
       "    <tr>\n",
       "      <th>1</th>\n",
       "      <td>1</td>\n",
       "      <td>It's not like we lack evidence of anthropogeni...</td>\n",
       "      <td>126103</td>\n",
       "    </tr>\n",
       "    <tr>\n",
       "      <th>2</th>\n",
       "      <td>2</td>\n",
       "      <td>RT @RawStory: Researchers say we have three ye...</td>\n",
       "      <td>698562</td>\n",
       "    </tr>\n",
       "    <tr>\n",
       "      <th>3</th>\n",
       "      <td>1</td>\n",
       "      <td>#TodayinMaker# WIRED : 2016 was a pivotal year...</td>\n",
       "      <td>573736</td>\n",
       "    </tr>\n",
       "    <tr>\n",
       "      <th>4</th>\n",
       "      <td>1</td>\n",
       "      <td>RT @SoyNovioDeTodas: It's 2016, and a racist, ...</td>\n",
       "      <td>466954</td>\n",
       "    </tr>\n",
       "  </tbody>\n",
       "</table>\n",
       "</div>"
      ],
      "text/plain": [
       "   sentiment                                            message  tweetid\n",
       "0          1  PolySciMajor EPA chief doesn't think carbon di...   625221\n",
       "1          1  It's not like we lack evidence of anthropogeni...   126103\n",
       "2          2  RT @RawStory: Researchers say we have three ye...   698562\n",
       "3          1  #TodayinMaker# WIRED : 2016 was a pivotal year...   573736\n",
       "4          1  RT @SoyNovioDeTodas: It's 2016, and a racist, ...   466954"
      ]
     },
     "execution_count": 4,
     "metadata": {},
     "output_type": "execute_result"
    }
   ],
   "source": [
    "train.head()"
   ]
  },
  {
   "cell_type": "markdown",
   "id": "767b3194-47e7-4f86-aa41-1002b0a8cf48",
   "metadata": {},
   "source": [
    "## 3. Exploratory Data Analysis (EDA)"
   ]
  },
  {
   "cell_type": "code",
   "execution_count": 5,
   "id": "9b852f51-2a06-4eb3-8744-5f96efa527a6",
   "metadata": {},
   "outputs": [
    {
     "data": {
      "text/plain": [
       "sentiment    0\n",
       "message      0\n",
       "tweetid      0\n",
       "dtype: int64"
      ]
     },
     "execution_count": 5,
     "metadata": {},
     "output_type": "execute_result"
    }
   ],
   "source": [
    "train.isnull().sum()"
   ]
  },
  {
   "cell_type": "code",
   "execution_count": 6,
   "id": "4c83b8c3-e393-453f-8c2a-015f45f0495c",
   "metadata": {},
   "outputs": [
    {
     "data": {
      "text/plain": [
       "message    0\n",
       "tweetid    0\n",
       "dtype: int64"
      ]
     },
     "execution_count": 6,
     "metadata": {},
     "output_type": "execute_result"
    }
   ],
   "source": [
    "test.isnull().sum()"
   ]
  },
  {
   "cell_type": "code",
   "execution_count": 7,
   "id": "0f3da77a-42df-4af1-9dea-70ff428d804d",
   "metadata": {},
   "outputs": [
    {
     "name": "stdout",
     "output_type": "stream",
     "text": [
      "<class 'pandas.core.frame.DataFrame'>\n",
      "RangeIndex: 15819 entries, 0 to 15818\n",
      "Data columns (total 3 columns):\n",
      " #   Column     Non-Null Count  Dtype \n",
      "---  ------     --------------  ----- \n",
      " 0   sentiment  15819 non-null  int64 \n",
      " 1   message    15819 non-null  object\n",
      " 2   tweetid    15819 non-null  int64 \n",
      "dtypes: int64(2), object(1)\n",
      "memory usage: 370.9+ KB\n"
     ]
    }
   ],
   "source": [
    "train.info()"
   ]
  },
  {
   "cell_type": "code",
   "execution_count": 8,
   "id": "dae07681-fb03-4ec5-bcbc-a6d845b1ff8b",
   "metadata": {},
   "outputs": [
    {
     "name": "stdout",
     "output_type": "stream",
     "text": [
      "<class 'pandas.core.frame.DataFrame'>\n",
      "RangeIndex: 10546 entries, 0 to 10545\n",
      "Data columns (total 2 columns):\n",
      " #   Column   Non-Null Count  Dtype \n",
      "---  ------   --------------  ----- \n",
      " 0   message  10546 non-null  object\n",
      " 1   tweetid  10546 non-null  int64 \n",
      "dtypes: int64(1), object(1)\n",
      "memory usage: 164.9+ KB\n"
     ]
    }
   ],
   "source": [
    "test.info()"
   ]
  },
  {
   "cell_type": "code",
   "execution_count": 9,
   "id": "65f591a5-0bfa-4e95-a047-7429f78e4193",
   "metadata": {},
   "outputs": [
    {
     "data": {
      "text/plain": [
       "15819"
      ]
     },
     "execution_count": 9,
     "metadata": {},
     "output_type": "execute_result"
    }
   ],
   "source": [
    "train['tweetid'].nunique()"
   ]
  },
  {
   "cell_type": "code",
   "execution_count": 10,
   "id": "6f026d48-dc38-4257-8cdd-e566ebe238fe",
   "metadata": {},
   "outputs": [],
   "source": [
    "negative_count = (train['sentiment'] == -1).sum()"
   ]
  },
  {
   "cell_type": "code",
   "execution_count": 11,
   "id": "04e9d6be-a6e8-4615-841b-dd370a4e24eb",
   "metadata": {},
   "outputs": [
    {
     "data": {
      "image/png": "[encoded data removed]",
      "text/plain": [
       "<Figure size 640x480 with 1 Axes>"
      ]
     },
     "metadata": {},
     "output_type": "display_data"
    }
   ],
   "source": [
    "import matplotlib.pyplot as plt\n",
    "\n",
    "# Count occurrences for each sentiment value\n",
    "negative_count = (train['sentiment'] == -1).sum()\n",
    "neutral_count = (train['sentiment'] == 0).sum()\n",
    "positive_count = (train['sentiment'] == 1).sum()\n",
    "positive_count2 = (train['sentiment'] == 2).sum()\n",
    "\n",
    "\n",
    "# Data for the histogram\n",
    "counts = [negative_count, neutral_count, positive_count, positive_count2]\n",
    "sentiments = [-1, 0, 1, 2]\n",
    "\n",
    "# Plot the histogram\n",
    "plt.bar(sentiments, counts, color=['red', 'grey', 'green', 'blue'])\n",
    "plt.xlabel('Sentiment')\n",
    "plt.ylabel('Count')\n",
    "plt.title('Sentiment Distribution in the Training Data')\n",
    "plt.show()\n"
   ]
  },
  {
   "cell_type": "markdown",
   "id": "447c39dc-03fd-4602-bc63-a8aac3726892",
   "metadata": {},
   "source": [
    "### Sentiment Definitions (from Kaggle)\n",
    "\n",
    "#### 2 News: the tweet links to factual news about climate change\n",
    "\n",
    "#### 1 Pro: the tweet supports the belief of man-made climate change\n",
    "\n",
    "#### 0 Neutral: the tweet neither supports nor refutes the belief of man-made climate change\n",
    "\n",
    "#### -1 Anti: the tweet does not believe in man-made climate change"
   ]
  },
  {
   "cell_type": "code",
   "execution_count": 12,
   "id": "848bfd32-c920-46e8-ac63-203756b516a8",
   "metadata": {},
   "outputs": [
    {
     "data": {
      "text/plain": [
       "0.8681050274781192"
      ]
     },
     "execution_count": 12,
     "metadata": {},
     "output_type": "execute_result"
    }
   ],
   "source": [
    "# Separate minority and majority classes\n",
    "positive_sentiment= train[train['sentiment'] == 1]\n",
    "negative_sentiment = train[train['sentiment'] == -1]\n",
    "\n",
    "# Percentage of tweet supports the belief \n",
    "len(positive_sentiment)/(len(positive_sentiment)+len(negative_sentiment))"
   ]
  },
  {
   "cell_type": "code",
   "execution_count": 13,
   "id": "b9c8fe3e-6206-4b45-9d5c-20066ca786c7",
   "metadata": {},
   "outputs": [],
   "source": [
    "### we have imbalanced data. The majority class  significantly dominates the minority class in terms of the number of instances\n",
    "### We will use downsampling to balance the distribution"
   ]
  },
  {
   "cell_type": "code",
   "execution_count": 14,
   "id": "9747dd70-2ebb-4f69-83ce-ca3897dc284d",
   "metadata": {},
   "outputs": [
    {
     "data": {
      "text/plain": [
       "sentiment\n",
       " 1    1296\n",
       "-1    1296\n",
       "Name: count, dtype: int64"
      ]
     },
     "execution_count": 14,
     "metadata": {},
     "output_type": "execute_result"
    }
   ],
   "source": [
    "from sklearn.utils import resample\n",
    "# Downsample majority\n",
    "positive_downsampled = resample(positive_sentiment,\n",
    "                          replace=False, # sample without replacement (no need to duplicate observations)\n",
    "                          n_samples=len(negative_sentiment), # match number in minority class\n",
    "                          random_state=27) # reproducible results\n",
    "\n",
    "# Combine downsampled majority class with minority class\n",
    "downsampled = pd.concat([positive_downsampled, negative_sentiment])\n",
    "\n",
    "# Check new class counts\n",
    "downsampled['sentiment'].value_counts()"
   ]
  },
  {
   "cell_type": "markdown",
   "id": "6befd5a8-7179-4705-a315-6006681ead11",
   "metadata": {},
   "source": [
    "## 4. Feature Engineering"
   ]
  },
  {
   "cell_type": "code",
   "execution_count": null,
   "id": "7da9fa00-68ae-4710-8199-ec4886b1f785",
   "metadata": {},
   "outputs": [],
   "source": []
  },
  {
   "cell_type": "markdown",
   "id": "6256ceb5-5ee1-4cad-825a-af7ab03bd8a1",
   "metadata": {},
   "source": [
    "#### Natural Language Processing"
   ]
  },
  {
   "cell_type": "code",
   "execution_count": 15,
   "id": "a7749d4a-f0bd-4d82-96c1-ad902aa7b9e3",
   "metadata": {},
   "outputs": [],
   "source": [
    "\n",
    "\n",
    "# Initialize stemmer and lemmatizer\n",
    "stemmer = PorterStemmer()\n",
    "lemmatizer = WordNetLemmatizer()\n",
    "\n",
    "## Remove urls\n",
    "pattern_url = r'http[s]?://(?:[A-Za-z]|[0-9]|[$-_@.&+]|[!*\\(\\),]|(?:%[0-9A-Fa-f][0-9A-Fa-f]))+'\n",
    "subs_url = r'url-web'\n",
    "train['message'] = train['message'].replace(to_replace = pattern_url, value = subs_url, regex = True)\n",
    "\n",
    "pattern_special=r'[^a-zA-Z0-9\\s]'\n",
    "# Remove hashtags using regular expressions\n",
    "train['message'] = train['message'].replace(to_replace = pattern_special, value = '', regex = True)\n",
    "\n",
    "# Lowercasing\n",
    "train['Lowercased'] = train['message'].apply(lambda x: x.lower())\n",
    "\n",
    "# Removing punctuation\n",
    "train['No_Punctuation'] = train['Lowercased'].apply(lambda x: x.translate(str.maketrans('', '', string.punctuation)))\n",
    "\n",
    "# Tokenization\n",
    "train['Tokenized'] = train['No_Punctuation'].apply(lambda x: word_tokenize(x))\n",
    "\n",
    "# Stop words removal\n",
    "stop_words = set(stopwords.words('english'))\n",
    "train['No_Stopwords'] = train['Tokenized'].apply(lambda x: [word for word in x if word not in stop_words])\n",
    "\n",
    "# Stemming\n",
    "train['Stemmed'] = train['No_Stopwords'].apply(lambda x: [stemmer.stem(word) for word in x])\n",
    "\n",
    "# Lemmatization\n",
    "train['Lemmatized'] = train['No_Stopwords'].apply(lambda x: [lemmatizer.lemmatize(word) for word in x])\n",
    "\n"
   ]
  },
  {
   "cell_type": "code",
   "execution_count": 16,
   "id": "24dad3b4-3dc3-4c34-900a-6e07f6db752c",
   "metadata": {},
   "outputs": [
    {
     "data": {
      "text/html": [
       "<div>\n",
       "<style scoped>\n",
       "    .dataframe tbody tr th:only-of-type {\n",
       "        vertical-align: middle;\n",
       "    }\n",
       "\n",
       "    .dataframe tbody tr th {\n",
       "        vertical-align: top;\n",
       "    }\n",
       "\n",
       "    .dataframe thead th {\n",
       "        text-align: right;\n",
       "    }\n",
       "</style>\n",
       "<table border=\"1\" class=\"dataframe\">\n",
       "  <thead>\n",
       "    <tr style=\"text-align: right;\">\n",
       "      <th></th>\n",
       "      <th>sentiment</th>\n",
       "      <th>message</th>\n",
       "      <th>tweetid</th>\n",
       "      <th>Lowercased</th>\n",
       "      <th>No_Punctuation</th>\n",
       "      <th>Tokenized</th>\n",
       "      <th>No_Stopwords</th>\n",
       "      <th>Stemmed</th>\n",
       "      <th>Lemmatized</th>\n",
       "    </tr>\n",
       "  </thead>\n",
       "  <tbody>\n",
       "    <tr>\n",
       "      <th>0</th>\n",
       "      <td>1</td>\n",
       "      <td>PolySciMajor EPA chief doesnt think carbon dio...</td>\n",
       "      <td>625221</td>\n",
       "      <td>polyscimajor epa chief doesnt think carbon dio...</td>\n",
       "      <td>polyscimajor epa chief doesnt think carbon dio...</td>\n",
       "      <td>[polyscimajor, epa, chief, doesnt, think, carb...</td>\n",
       "      <td>[polyscimajor, epa, chief, doesnt, think, carb...</td>\n",
       "      <td>[polyscimajor, epa, chief, doesnt, think, carb...</td>\n",
       "      <td>[polyscimajor, epa, chief, doesnt, think, carb...</td>\n",
       "    </tr>\n",
       "    <tr>\n",
       "      <th>1</th>\n",
       "      <td>1</td>\n",
       "      <td>Its not like we lack evidence of anthropogenic...</td>\n",
       "      <td>126103</td>\n",
       "      <td>its not like we lack evidence of anthropogenic...</td>\n",
       "      <td>its not like we lack evidence of anthropogenic...</td>\n",
       "      <td>[its, not, like, we, lack, evidence, of, anthr...</td>\n",
       "      <td>[like, lack, evidence, anthropogenic, global, ...</td>\n",
       "      <td>[like, lack, evid, anthropogen, global, warm]</td>\n",
       "      <td>[like, lack, evidence, anthropogenic, global, ...</td>\n",
       "    </tr>\n",
       "    <tr>\n",
       "      <th>2</th>\n",
       "      <td>2</td>\n",
       "      <td>RT RawStory Researchers say we have three year...</td>\n",
       "      <td>698562</td>\n",
       "      <td>rt rawstory researchers say we have three year...</td>\n",
       "      <td>rt rawstory researchers say we have three year...</td>\n",
       "      <td>[rt, rawstory, researchers, say, we, have, thr...</td>\n",
       "      <td>[rt, rawstory, researchers, say, three, years,...</td>\n",
       "      <td>[rt, rawstori, research, say, three, year, act...</td>\n",
       "      <td>[rt, rawstory, researcher, say, three, year, a...</td>\n",
       "    </tr>\n",
       "    <tr>\n",
       "      <th>3</th>\n",
       "      <td>1</td>\n",
       "      <td>TodayinMaker WIRED  2016 was a pivotal year in...</td>\n",
       "      <td>573736</td>\n",
       "      <td>todayinmaker wired  2016 was a pivotal year in...</td>\n",
       "      <td>todayinmaker wired  2016 was a pivotal year in...</td>\n",
       "      <td>[todayinmaker, wired, 2016, was, a, pivotal, y...</td>\n",
       "      <td>[todayinmaker, wired, 2016, pivotal, year, war...</td>\n",
       "      <td>[todayinmak, wire, 2016, pivot, year, war, cli...</td>\n",
       "      <td>[todayinmaker, wired, 2016, pivotal, year, war...</td>\n",
       "    </tr>\n",
       "    <tr>\n",
       "      <th>4</th>\n",
       "      <td>1</td>\n",
       "      <td>RT SoyNovioDeTodas Its 2016 and a racist sexis...</td>\n",
       "      <td>466954</td>\n",
       "      <td>rt soynoviodetodas its 2016 and a racist sexis...</td>\n",
       "      <td>rt soynoviodetodas its 2016 and a racist sexis...</td>\n",
       "      <td>[rt, soynoviodetodas, its, 2016, and, a, racis...</td>\n",
       "      <td>[rt, soynoviodetodas, 2016, racist, sexist, cl...</td>\n",
       "      <td>[rt, soynoviodetoda, 2016, racist, sexist, cli...</td>\n",
       "      <td>[rt, soynoviodetodas, 2016, racist, sexist, cl...</td>\n",
       "    </tr>\n",
       "  </tbody>\n",
       "</table>\n",
       "</div>"
      ],
      "text/plain": [
       "   sentiment                                            message  tweetid  \\\n",
       "0          1  PolySciMajor EPA chief doesnt think carbon dio...   625221   \n",
       "1          1  Its not like we lack evidence of anthropogenic...   126103   \n",
       "2          2  RT RawStory Researchers say we have three year...   698562   \n",
       "3          1  TodayinMaker WIRED  2016 was a pivotal year in...   573736   \n",
       "4          1  RT SoyNovioDeTodas Its 2016 and a racist sexis...   466954   \n",
       "\n",
       "                                          Lowercased  \\\n",
       "0  polyscimajor epa chief doesnt think carbon dio...   \n",
       "1  its not like we lack evidence of anthropogenic...   \n",
       "2  rt rawstory researchers say we have three year...   \n",
       "3  todayinmaker wired  2016 was a pivotal year in...   \n",
       "4  rt soynoviodetodas its 2016 and a racist sexis...   \n",
       "\n",
       "                                      No_Punctuation  \\\n",
       "0  polyscimajor epa chief doesnt think carbon dio...   \n",
       "1  its not like we lack evidence of anthropogenic...   \n",
       "2  rt rawstory researchers say we have three year...   \n",
       "3  todayinmaker wired  2016 was a pivotal year in...   \n",
       "4  rt soynoviodetodas its 2016 and a racist sexis...   \n",
       "\n",
       "                                           Tokenized  \\\n",
       "0  [polyscimajor, epa, chief, doesnt, think, carb...   \n",
       "1  [its, not, like, we, lack, evidence, of, anthr...   \n",
       "2  [rt, rawstory, researchers, say, we, have, thr...   \n",
       "3  [todayinmaker, wired, 2016, was, a, pivotal, y...   \n",
       "4  [rt, soynoviodetodas, its, 2016, and, a, racis...   \n",
       "\n",
       "                                        No_Stopwords  \\\n",
       "0  [polyscimajor, epa, chief, doesnt, think, carb...   \n",
       "1  [like, lack, evidence, anthropogenic, global, ...   \n",
       "2  [rt, rawstory, researchers, say, three, years,...   \n",
       "3  [todayinmaker, wired, 2016, pivotal, year, war...   \n",
       "4  [rt, soynoviodetodas, 2016, racist, sexist, cl...   \n",
       "\n",
       "                                             Stemmed  \\\n",
       "0  [polyscimajor, epa, chief, doesnt, think, carb...   \n",
       "1      [like, lack, evid, anthropogen, global, warm]   \n",
       "2  [rt, rawstori, research, say, three, year, act...   \n",
       "3  [todayinmak, wire, 2016, pivot, year, war, cli...   \n",
       "4  [rt, soynoviodetoda, 2016, racist, sexist, cli...   \n",
       "\n",
       "                                          Lemmatized  \n",
       "0  [polyscimajor, epa, chief, doesnt, think, carb...  \n",
       "1  [like, lack, evidence, anthropogenic, global, ...  \n",
       "2  [rt, rawstory, researcher, say, three, year, a...  \n",
       "3  [todayinmaker, wired, 2016, pivotal, year, war...  \n",
       "4  [rt, soynoviodetodas, 2016, racist, sexist, cl...  "
      ]
     },
     "execution_count": 16,
     "metadata": {},
     "output_type": "execute_result"
    }
   ],
   "source": [
    "train.head()"
   ]
  },
  {
   "cell_type": "code",
   "execution_count": 17,
   "id": "f0215fba-d2a0-4eeb-9a4b-804ff3e44674",
   "metadata": {},
   "outputs": [],
   "source": [
    "train['new_text_cleaned_l'] = train['Lemmatized'].apply(lambda words: ' '.join(words) )\n",
    "train['new_text_cleaned_s'] = train['Stemmed'].apply(lambda words: ' '.join(words) )"
   ]
  },
  {
   "cell_type": "code",
   "execution_count": 19,
   "id": "be36e00d-5d7c-4a9d-b8d3-fa8e48562f18",
   "metadata": {},
   "outputs": [
    {
     "data": {
      "text/html": [
       "<div>\n",
       "<style scoped>\n",
       "    .dataframe tbody tr th:only-of-type {\n",
       "        vertical-align: middle;\n",
       "    }\n",
       "\n",
       "    .dataframe tbody tr th {\n",
       "        vertical-align: top;\n",
       "    }\n",
       "\n",
       "    .dataframe thead th {\n",
       "        text-align: right;\n",
       "    }\n",
       "</style>\n",
       "<table border=\"1\" class=\"dataframe\">\n",
       "  <thead>\n",
       "    <tr style=\"text-align: right;\">\n",
       "      <th></th>\n",
       "      <th>sentiment</th>\n",
       "      <th>message</th>\n",
       "      <th>tweetid</th>\n",
       "      <th>Lowercased</th>\n",
       "      <th>No_Punctuation</th>\n",
       "      <th>Tokenized</th>\n",
       "      <th>No_Stopwords</th>\n",
       "      <th>Stemmed</th>\n",
       "      <th>Lemmatized</th>\n",
       "      <th>new_text_cleaned_l</th>\n",
       "      <th>new_text_cleaned_s</th>\n",
       "    </tr>\n",
       "  </thead>\n",
       "  <tbody>\n",
       "    <tr>\n",
       "      <th>0</th>\n",
       "      <td>1</td>\n",
       "      <td>PolySciMajor EPA chief doesnt think carbon dio...</td>\n",
       "      <td>625221</td>\n",
       "      <td>polyscimajor epa chief doesnt think carbon dio...</td>\n",
       "      <td>polyscimajor epa chief doesnt think carbon dio...</td>\n",
       "      <td>[polyscimajor, epa, chief, doesnt, think, carb...</td>\n",
       "      <td>[polyscimajor, epa, chief, doesnt, think, carb...</td>\n",
       "      <td>[polyscimajor, epa, chief, doesnt, think, carb...</td>\n",
       "      <td>[polyscimajor, epa, chief, doesnt, think, carb...</td>\n",
       "      <td>polyscimajor epa chief doesnt think carbon dio...</td>\n",
       "      <td>polyscimajor epa chief doesnt think carbon dio...</td>\n",
       "    </tr>\n",
       "    <tr>\n",
       "      <th>1</th>\n",
       "      <td>1</td>\n",
       "      <td>Its not like we lack evidence of anthropogenic...</td>\n",
       "      <td>126103</td>\n",
       "      <td>its not like we lack evidence of anthropogenic...</td>\n",
       "      <td>its not like we lack evidence of anthropogenic...</td>\n",
       "      <td>[its, not, like, we, lack, evidence, of, anthr...</td>\n",
       "      <td>[like, lack, evidence, anthropogenic, global, ...</td>\n",
       "      <td>[like, lack, evid, anthropogen, global, warm]</td>\n",
       "      <td>[like, lack, evidence, anthropogenic, global, ...</td>\n",
       "      <td>like lack evidence anthropogenic global warming</td>\n",
       "      <td>like lack evid anthropogen global warm</td>\n",
       "    </tr>\n",
       "    <tr>\n",
       "      <th>2</th>\n",
       "      <td>2</td>\n",
       "      <td>RT RawStory Researchers say we have three year...</td>\n",
       "      <td>698562</td>\n",
       "      <td>rt rawstory researchers say we have three year...</td>\n",
       "      <td>rt rawstory researchers say we have three year...</td>\n",
       "      <td>[rt, rawstory, researchers, say, we, have, thr...</td>\n",
       "      <td>[rt, rawstory, researchers, say, three, years,...</td>\n",
       "      <td>[rt, rawstori, research, say, three, year, act...</td>\n",
       "      <td>[rt, rawstory, researcher, say, three, year, a...</td>\n",
       "      <td>rt rawstory researcher say three year act clim...</td>\n",
       "      <td>rt rawstori research say three year act climat...</td>\n",
       "    </tr>\n",
       "    <tr>\n",
       "      <th>3</th>\n",
       "      <td>1</td>\n",
       "      <td>TodayinMaker WIRED  2016 was a pivotal year in...</td>\n",
       "      <td>573736</td>\n",
       "      <td>todayinmaker wired  2016 was a pivotal year in...</td>\n",
       "      <td>todayinmaker wired  2016 was a pivotal year in...</td>\n",
       "      <td>[todayinmaker, wired, 2016, was, a, pivotal, y...</td>\n",
       "      <td>[todayinmaker, wired, 2016, pivotal, year, war...</td>\n",
       "      <td>[todayinmak, wire, 2016, pivot, year, war, cli...</td>\n",
       "      <td>[todayinmaker, wired, 2016, pivotal, year, war...</td>\n",
       "      <td>todayinmaker wired 2016 pivotal year war clima...</td>\n",
       "      <td>todayinmak wire 2016 pivot year war climat cha...</td>\n",
       "    </tr>\n",
       "    <tr>\n",
       "      <th>4</th>\n",
       "      <td>1</td>\n",
       "      <td>RT SoyNovioDeTodas Its 2016 and a racist sexis...</td>\n",
       "      <td>466954</td>\n",
       "      <td>rt soynoviodetodas its 2016 and a racist sexis...</td>\n",
       "      <td>rt soynoviodetodas its 2016 and a racist sexis...</td>\n",
       "      <td>[rt, soynoviodetodas, its, 2016, and, a, racis...</td>\n",
       "      <td>[rt, soynoviodetodas, 2016, racist, sexist, cl...</td>\n",
       "      <td>[rt, soynoviodetoda, 2016, racist, sexist, cli...</td>\n",
       "      <td>[rt, soynoviodetodas, 2016, racist, sexist, cl...</td>\n",
       "      <td>rt soynoviodetodas 2016 racist sexist climate ...</td>\n",
       "      <td>rt soynoviodetoda 2016 racist sexist climat ch...</td>\n",
       "    </tr>\n",
       "  </tbody>\n",
       "</table>\n",
       "</div>"
      ],
      "text/plain": [
       "   sentiment                                            message  tweetid  \\\n",
       "0          1  PolySciMajor EPA chief doesnt think carbon dio...   625221   \n",
       "1          1  Its not like we lack evidence of anthropogenic...   126103   \n",
       "2          2  RT RawStory Researchers say we have three year...   698562   \n",
       "3          1  TodayinMaker WIRED  2016 was a pivotal year in...   573736   \n",
       "4          1  RT SoyNovioDeTodas Its 2016 and a racist sexis...   466954   \n",
       "\n",
       "                                          Lowercased  \\\n",
       "0  polyscimajor epa chief doesnt think carbon dio...   \n",
       "1  its not like we lack evidence of anthropogenic...   \n",
       "2  rt rawstory researchers say we have three year...   \n",
       "3  todayinmaker wired  2016 was a pivotal year in...   \n",
       "4  rt soynoviodetodas its 2016 and a racist sexis...   \n",
       "\n",
       "                                      No_Punctuation  \\\n",
       "0  polyscimajor epa chief doesnt think carbon dio...   \n",
       "1  its not like we lack evidence of anthropogenic...   \n",
       "2  rt rawstory researchers say we have three year...   \n",
       "3  todayinmaker wired  2016 was a pivotal year in...   \n",
       "4  rt soynoviodetodas its 2016 and a racist sexis...   \n",
       "\n",
       "                                           Tokenized  \\\n",
       "0  [polyscimajor, epa, chief, doesnt, think, carb...   \n",
       "1  [its, not, like, we, lack, evidence, of, anthr...   \n",
       "2  [rt, rawstory, researchers, say, we, have, thr...   \n",
       "3  [todayinmaker, wired, 2016, was, a, pivotal, y...   \n",
       "4  [rt, soynoviodetodas, its, 2016, and, a, racis...   \n",
       "\n",
       "                                        No_Stopwords  \\\n",
       "0  [polyscimajor, epa, chief, doesnt, think, carb...   \n",
       "1  [like, lack, evidence, anthropogenic, global, ...   \n",
       "2  [rt, rawstory, researchers, say, three, years,...   \n",
       "3  [todayinmaker, wired, 2016, pivotal, year, war...   \n",
       "4  [rt, soynoviodetodas, 2016, racist, sexist, cl...   \n",
       "\n",
       "                                             Stemmed  \\\n",
       "0  [polyscimajor, epa, chief, doesnt, think, carb...   \n",
       "1      [like, lack, evid, anthropogen, global, warm]   \n",
       "2  [rt, rawstori, research, say, three, year, act...   \n",
       "3  [todayinmak, wire, 2016, pivot, year, war, cli...   \n",
       "4  [rt, soynoviodetoda, 2016, racist, sexist, cli...   \n",
       "\n",
       "                                          Lemmatized  \\\n",
       "0  [polyscimajor, epa, chief, doesnt, think, carb...   \n",
       "1  [like, lack, evidence, anthropogenic, global, ...   \n",
       "2  [rt, rawstory, researcher, say, three, year, a...   \n",
       "3  [todayinmaker, wired, 2016, pivotal, year, war...   \n",
       "4  [rt, soynoviodetodas, 2016, racist, sexist, cl...   \n",
       "\n",
       "                                  new_text_cleaned_l  \\\n",
       "0  polyscimajor epa chief doesnt think carbon dio...   \n",
       "1    like lack evidence anthropogenic global warming   \n",
       "2  rt rawstory researcher say three year act clim...   \n",
       "3  todayinmaker wired 2016 pivotal year war clima...   \n",
       "4  rt soynoviodetodas 2016 racist sexist climate ...   \n",
       "\n",
       "                                  new_text_cleaned_s  \n",
       "0  polyscimajor epa chief doesnt think carbon dio...  \n",
       "1             like lack evid anthropogen global warm  \n",
       "2  rt rawstori research say three year act climat...  \n",
       "3  todayinmak wire 2016 pivot year war climat cha...  \n",
       "4  rt soynoviodetoda 2016 racist sexist climat ch...  "
      ]
     },
     "execution_count": 19,
     "metadata": {},
     "output_type": "execute_result"
    }
   ],
   "source": [
    "train.head()"
   ]
  },
  {
   "cell_type": "markdown",
   "id": "92e0ebbc-a551-4b09-9fb5-8d80e2bb77df",
   "metadata": {},
   "source": [
    "## Scikit-learn"
   ]
  },
  {
   "cell_type": "code",
   "execution_count": 20,
   "id": "00691db1-0f3d-4809-b527-76ec47bb529f",
   "metadata": {},
   "outputs": [
    {
     "name": "stdout",
     "output_type": "stream",
     "text": [
      "CountVectorizer Matrix:\n",
      "[[0 0 0 ... 0 0 0]\n",
      " [0 0 0 ... 0 0 0]\n",
      " [0 0 0 ... 0 0 0]\n",
      " ...\n",
      " [0 0 0 ... 0 0 0]\n",
      " [0 0 0 ... 0 0 0]\n",
      " [0 0 0 ... 0 0 0]]\n"
     ]
    }
   ],
   "source": [
    "from sklearn.feature_extraction.text import CountVectorizer\n",
    "\n",
    "# Create a CountVectorizer instance\n",
    "vectorizer = CountVectorizer()\n",
    "\n",
    "# Fit and transform the documents\n",
    "X = vectorizer.fit_transform(train['new_text_cleaned_s'])\n",
    "\n",
    "# Print the CountVectorizer matrix and feature names\n",
    "print(\"CountVectorizer Matrix:\")\n",
    "print(X.toarray())"
   ]
  },
  {
   "cell_type": "code",
   "execution_count": 21,
   "id": "c0846091-91d1-4a14-a24e-61215af1af65",
   "metadata": {},
   "outputs": [],
   "source": [
    "# split up our data\n",
    "from sklearn.model_selection import train_test_split\n",
    "sentiments = train['sentiment']\n",
    "\n",
    "X_train, X_test, y_train, y_test = train_test_split(X, sentiments, test_size = 0.2, random_state = 42)"
   ]
  },
  {
   "cell_type": "code",
   "execution_count": 24,
   "id": "903a1e3d-b541-47b4-9aab-e2e57c3c2057",
   "metadata": {},
   "outputs": [
    {
     "name": "stdout",
     "output_type": "stream",
     "text": [
      "[LibLinear]              precision    recall  f1-score   support\n",
      "\n",
      "          -1       0.00      0.00      0.00       278\n",
      "           0       0.62      0.12      0.21       425\n",
      "           1       0.67      0.81      0.73      1755\n",
      "           2       0.58      0.77      0.66       706\n",
      "\n",
      "    accuracy                           0.64      3164\n",
      "   macro avg       0.47      0.43      0.40      3164\n",
      "weighted avg       0.58      0.64      0.58      3164\n",
      "\n"
     ]
    },
    {
     "name": "stderr",
     "output_type": "stream",
     "text": [
      "C:\\Users\\f3519961\\AppData\\Local\\Programs\\Python\\Python310\\lib\\site-packages\\sklearn\\metrics\\_classification.py:1471: UndefinedMetricWarning: Precision and F-score are ill-defined and being set to 0.0 in labels with no predicted samples. Use `zero_division` parameter to control this behavior.\n",
      "  _warn_prf(average, modifier, msg_start, len(result))\n",
      "C:\\Users\\f3519961\\AppData\\Local\\Programs\\Python\\Python310\\lib\\site-packages\\sklearn\\metrics\\_classification.py:1471: UndefinedMetricWarning: Precision and F-score are ill-defined and being set to 0.0 in labels with no predicted samples. Use `zero_division` parameter to control this behavior.\n",
      "  _warn_prf(average, modifier, msg_start, len(result))\n",
      "C:\\Users\\f3519961\\AppData\\Local\\Programs\\Python\\Python310\\lib\\site-packages\\sklearn\\metrics\\_classification.py:1471: UndefinedMetricWarning: Precision and F-score are ill-defined and being set to 0.0 in labels with no predicted samples. Use `zero_division` parameter to control this behavior.\n",
      "  _warn_prf(average, modifier, msg_start, len(result))\n"
     ]
    }
   ],
   "source": [
    "#LogisticRegression \n",
    "#Calculate class weights\n",
    "from sklearn.utils import class_weight\n",
    "class_weights = class_weight.compute_class_weight('balanced', classes=sentiments.unique(), y=sentiments)\n",
    "\n",
    "lr_model = LogisticRegression( max_iter=16000, class_weight=dict(zip(range(-1, 3), class_weights)))\n",
    "lr_model.fit(X_train, y_train)\n",
    "\n",
    "# Model evaluation\n",
    "from sklearn.metrics import classification_report\n",
    "y_pred = lr_model.predict(X_test)\n",
    "print(classification_report(y_test, y_pred))"
   ]
  },
  {
   "cell_type": "code",
   "execution_count": null,
   "id": "96239785-d22e-4f0a-8986-0bb7281903d5",
   "metadata": {},
   "outputs": [],
   "source": []
  }
 ],
 "metadata": {
  "kernelspec": {
   "display_name": "Python 3 (ipykernel)",
   "language": "python",
   "name": "python3"
  },
  "language_info": {
   "codemirror_mode": {
    "name": "ipython",
    "version": 3
   },
   "file_extension": ".py",
   "mimetype": "text/x-python",
   "name": "python",
   "nbconvert_exporter": "python",
   "pygments_lexer": "ipython3",
   "version": "3.10.8"
  }
 },
 "nbformat": 4,
 "nbformat_minor": 5
}
