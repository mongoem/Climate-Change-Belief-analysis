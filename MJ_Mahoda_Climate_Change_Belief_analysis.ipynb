{
 "cells": [
  {
   "cell_type": "markdown",
   "id": "0a2fe9f9-b885-4583-a1b4-f65e788a9788",
   "metadata": {},
   "source": [
    "## 1. Importing Packages"
   ]
  },
  {
   "cell_type": "code",
   "execution_count": 73,
   "id": "c975a5a7-4a51-4139-99cb-609afb9edab1",
   "metadata": {},
   "outputs": [
    {
     "name": "stderr",
     "output_type": "stream",
     "text": [
      "[nltk_data] Downloading package punkt to\n",
      "[nltk_data]     C:\\Users\\f3519961\\AppData\\Roaming\\nltk_data...\n",
      "[nltk_data]   Package punkt is already up-to-date!\n",
      "[nltk_data] Downloading package stopwords to\n",
      "[nltk_data]     C:\\Users\\f3519961\\AppData\\Roaming\\nltk_data...\n",
      "[nltk_data]   Package stopwords is already up-to-date!\n",
      "[nltk_data] Downloading package wordnet to\n",
      "[nltk_data]     C:\\Users\\f3519961\\AppData\\Roaming\\nltk_data...\n",
      "[nltk_data]   Package wordnet is already up-to-date!\n"
     ]
    }
   ],
   "source": [
    "import numpy as np\n",
    "import pandas as pd\n",
    "import matplotlib.pyplot as plt\n",
    "import string\n",
    "import nltk\n",
    "from nltk.corpus import stopwords\n",
    "from nltk.tokenize import TreebankWordTokenizer\n",
    "from nltk.tokenize import word_tokenize\n",
    "from nltk.stem import PorterStemmer, WordNetLemmatizer\n",
    "\n",
    "# Download NLTK resources\n",
    "nltk.download('punkt')\n",
    "nltk.download('stopwords')\n",
    "nltk.download('wordnet')\n",
    "\n",
    "from sklearn.model_selection import train_test_split, GridSearchCV\n",
    "from sklearn.linear_model import LogisticRegression\n",
    "from sklearn.preprocessing import StandardScaler\n",
    "from sklearn.metrics import f1_score, precision_score, recall_score, accuracy_score, confusion_matrix\n",
    "\n",
    "from sklearn.model_selection import cross_val_score\n",
    "from imblearn.over_sampling import RandomOverSampler"
   ]
  },
  {
   "cell_type": "markdown",
   "id": "5be8163a-438c-461d-b9b1-096c10121aee",
   "metadata": {},
   "source": [
    "## 2. Loading the Data"
   ]
  },
  {
   "cell_type": "code",
   "execution_count": 74,
   "id": "a2276e86-1d24-46bc-888f-440474cfd348",
   "metadata": {},
   "outputs": [],
   "source": [
    "train = pd.read_csv('train.csv')\n",
    "test = pd.read_csv('test.csv')"
   ]
  },
  {
   "cell_type": "code",
   "execution_count": 75,
   "id": "a1d40b53-869d-4774-90f5-d7a632313c8b",
   "metadata": {},
   "outputs": [
    {
     "data": {
      "text/html": [
       "<div>\n",
       "<style scoped>\n",
       "    .dataframe tbody tr th:only-of-type {\n",
       "        vertical-align: middle;\n",
       "    }\n",
       "\n",
       "    .dataframe tbody tr th {\n",
       "        vertical-align: top;\n",
       "    }\n",
       "\n",
       "    .dataframe thead th {\n",
       "        text-align: right;\n",
       "    }\n",
       "</style>\n",
       "<table border=\"1\" class=\"dataframe\">\n",
       "  <thead>\n",
       "    <tr style=\"text-align: right;\">\n",
       "      <th></th>\n",
       "      <th>sentiment</th>\n",
       "      <th>message</th>\n",
       "      <th>tweetid</th>\n",
       "    </tr>\n",
       "  </thead>\n",
       "  <tbody>\n",
       "    <tr>\n",
       "      <th>0</th>\n",
       "      <td>1</td>\n",
       "      <td>PolySciMajor EPA chief doesn't think carbon di...</td>\n",
       "      <td>625221</td>\n",
       "    </tr>\n",
       "    <tr>\n",
       "      <th>1</th>\n",
       "      <td>1</td>\n",
       "      <td>It's not like we lack evidence of anthropogeni...</td>\n",
       "      <td>126103</td>\n",
       "    </tr>\n",
       "    <tr>\n",
       "      <th>2</th>\n",
       "      <td>2</td>\n",
       "      <td>RT @RawStory: Researchers say we have three ye...</td>\n",
       "      <td>698562</td>\n",
       "    </tr>\n",
       "    <tr>\n",
       "      <th>3</th>\n",
       "      <td>1</td>\n",
       "      <td>#TodayinMaker# WIRED : 2016 was a pivotal year...</td>\n",
       "      <td>573736</td>\n",
       "    </tr>\n",
       "    <tr>\n",
       "      <th>4</th>\n",
       "      <td>1</td>\n",
       "      <td>RT @SoyNovioDeTodas: It's 2016, and a racist, ...</td>\n",
       "      <td>466954</td>\n",
       "    </tr>\n",
       "  </tbody>\n",
       "</table>\n",
       "</div>"
      ],
      "text/plain": [
       "   sentiment                                            message  tweetid\n",
       "0          1  PolySciMajor EPA chief doesn't think carbon di...   625221\n",
       "1          1  It's not like we lack evidence of anthropogeni...   126103\n",
       "2          2  RT @RawStory: Researchers say we have three ye...   698562\n",
       "3          1  #TodayinMaker# WIRED : 2016 was a pivotal year...   573736\n",
       "4          1  RT @SoyNovioDeTodas: It's 2016, and a racist, ...   466954"
      ]
     },
     "execution_count": 75,
     "metadata": {},
     "output_type": "execute_result"
    }
   ],
   "source": [
    "train.head()"
   ]
  },
  {
   "cell_type": "markdown",
   "id": "767b3194-47e7-4f86-aa41-1002b0a8cf48",
   "metadata": {},
   "source": [
    "## 3. Exploratory Data Analysis (EDA)"
   ]
  },
  {
   "cell_type": "code",
   "execution_count": 76,
   "id": "9b852f51-2a06-4eb3-8744-5f96efa527a6",
   "metadata": {},
   "outputs": [
    {
     "data": {
      "text/plain": [
       "sentiment    0\n",
       "message      0\n",
       "tweetid      0\n",
       "dtype: int64"
      ]
     },
     "execution_count": 76,
     "metadata": {},
     "output_type": "execute_result"
    }
   ],
   "source": [
    "train.isnull().sum()"
   ]
  },
  {
   "cell_type": "code",
   "execution_count": 77,
   "id": "4c83b8c3-e393-453f-8c2a-015f45f0495c",
   "metadata": {},
   "outputs": [
    {
     "data": {
      "text/plain": [
       "message    0\n",
       "tweetid    0\n",
       "dtype: int64"
      ]
     },
     "execution_count": 77,
     "metadata": {},
     "output_type": "execute_result"
    }
   ],
   "source": [
    "test.isnull().sum()"
   ]
  },
  {
   "cell_type": "code",
   "execution_count": 78,
   "id": "0f3da77a-42df-4af1-9dea-70ff428d804d",
   "metadata": {},
   "outputs": [
    {
     "name": "stdout",
     "output_type": "stream",
     "text": [
      "<class 'pandas.core.frame.DataFrame'>\n",
      "RangeIndex: 15819 entries, 0 to 15818\n",
      "Data columns (total 3 columns):\n",
      " #   Column     Non-Null Count  Dtype \n",
      "---  ------     --------------  ----- \n",
      " 0   sentiment  15819 non-null  int64 \n",
      " 1   message    15819 non-null  object\n",
      " 2   tweetid    15819 non-null  int64 \n",
      "dtypes: int64(2), object(1)\n",
      "memory usage: 370.9+ KB\n"
     ]
    }
   ],
   "source": [
    "train.info()"
   ]
  },
  {
   "cell_type": "code",
   "execution_count": 79,
   "id": "dae07681-fb03-4ec5-bcbc-a6d845b1ff8b",
   "metadata": {},
   "outputs": [
    {
     "name": "stdout",
     "output_type": "stream",
     "text": [
      "<class 'pandas.core.frame.DataFrame'>\n",
      "RangeIndex: 10546 entries, 0 to 10545\n",
      "Data columns (total 2 columns):\n",
      " #   Column   Non-Null Count  Dtype \n",
      "---  ------   --------------  ----- \n",
      " 0   message  10546 non-null  object\n",
      " 1   tweetid  10546 non-null  int64 \n",
      "dtypes: int64(1), object(1)\n",
      "memory usage: 164.9+ KB\n"
     ]
    }
   ],
   "source": [
    "test.info()"
   ]
  },
  {
   "cell_type": "code",
   "execution_count": 80,
   "id": "65f591a5-0bfa-4e95-a047-7429f78e4193",
   "metadata": {},
   "outputs": [
    {
     "data": {
      "text/plain": [
       "15819"
      ]
     },
     "execution_count": 80,
     "metadata": {},
     "output_type": "execute_result"
    }
   ],
   "source": [
    "train['tweetid'].nunique()"
   ]
  },
  {
   "cell_type": "code",
   "execution_count": 81,
   "id": "6f026d48-dc38-4257-8cdd-e566ebe238fe",
   "metadata": {},
   "outputs": [],
   "source": [
    "negative_count = (train['sentiment'] == -1).sum()"
   ]
  },
  {
   "cell_type": "code",
   "execution_count": 82,
   "id": "04e9d6be-a6e8-4615-841b-dd370a4e24eb",
   "metadata": {},
   "outputs": [
    {
     "name": "stdout",
     "output_type": "stream",
     "text": [
      "1296\n",
      "2353\n",
      "8530\n",
      "3640\n"
     ]
    },
    {
     "data": {
      "image/png": "[encoded data removed]",
      "text/plain": [
       "<Figure size 640x480 with 1 Axes>"
      ]
     },
     "metadata": {},
     "output_type": "display_data"
    }
   ],
   "source": [
    "import matplotlib.pyplot as plt\n",
    "\n",
    "# Count occurrences for each sentiment value\n",
    "negative_count = (train['sentiment'] == -1).sum()\n",
    "neutral_count = (train['sentiment'] == 0).sum()\n",
    "positive_count = (train['sentiment'] == 1).sum()\n",
    "positive_count2 = (train['sentiment'] == 2).sum()\n",
    "\n",
    "print(negative_count)\n",
    "print(neutral_count)\n",
    "print(positive_count)\n",
    "print(positive_count2)\n",
    "\n",
    "\n",
    "# Data for the histogram\n",
    "counts = [negative_count, neutral_count, positive_count, positive_count2]\n",
    "sentiments = [-1, 0, 1, 2]\n",
    "\n",
    "# Plot the histogram\n",
    "plt.bar(sentiments, counts, color=['red', 'grey', 'green', 'blue'])\n",
    "plt.xlabel('Sentiment')\n",
    "plt.ylabel('Count')\n",
    "plt.title('Sentiment Distribution in the Training Data')\n",
    "plt.show()\n"
   ]
  },
  {
   "cell_type": "markdown",
   "id": "447c39dc-03fd-4602-bc63-a8aac3726892",
   "metadata": {},
   "source": [
    "### Sentiment Definitions (from Kaggle)\n",
    "\n",
    "#### 2 News: the tweet links to factual news about climate change\n",
    "\n",
    "#### 1 Pro: the tweet supports the belief of man-made climate change\n",
    "\n",
    "#### 0 Neutral: the tweet neither supports nor refutes the belief of man-made climate change\n",
    "\n",
    "#### -1 Anti: the tweet does not believe in man-made climate change"
   ]
  },
  {
   "cell_type": "markdown",
   "id": "6befd5a8-7179-4705-a315-6006681ead11",
   "metadata": {},
   "source": [
    "## 4. Feature Engineering"
   ]
  },
  {
   "cell_type": "markdown",
   "id": "6256ceb5-5ee1-4cad-825a-af7ab03bd8a1",
   "metadata": {},
   "source": [
    "#### Natural Language Processing"
   ]
  },
  {
   "cell_type": "code",
   "execution_count": 83,
   "id": "a7749d4a-f0bd-4d82-96c1-ad902aa7b9e3",
   "metadata": {},
   "outputs": [],
   "source": [
    "\n",
    "\n",
    "# Initialize stemmer and lemmatizer\n",
    "stemmer = PorterStemmer()\n",
    "lemmatizer = WordNetLemmatizer()\n",
    "\n",
    "## Remove urls\n",
    "pattern_url = r'http[s]?://(?:[A-Za-z]|[0-9]|[$-_@.&+]|[!*\\(\\),]|(?:%[0-9A-Fa-f][0-9A-Fa-f]))+'\n",
    "subs_url = r'url-web'\n",
    "train['message'] = train['message'].replace(to_replace = pattern_url, value = subs_url, regex = True)\n",
    "\n",
    "## Remove mentions\n",
    "mention_pattern = r'@([^\\s:]+)'\n",
    "train['message'] = train['message'].replace(to_replace = mention_pattern, value = '', regex = True)\n",
    "\n",
    "# Remove special charecters using regular expressions\n",
    "pattern_special=r'[^a-zA-Z0-9\\s]'\n",
    "train['message'] = train['message'].replace(to_replace = pattern_special, value = '', regex = True)\n",
    "\n",
    "# Lowercasing\n",
    "train['Lowercased'] = train['message'].apply(lambda x: x.lower())\n",
    "\n",
    "# Removing punctuation\n",
    "train['No_Punctuation'] = train['Lowercased'].apply(lambda x: x.translate(str.maketrans('', '', string.punctuation)))\n",
    "\n",
    "# Tokenization\n",
    "train['Tokenized'] = train['No_Punctuation'].apply(lambda x: word_tokenize(x))\n",
    "\n",
    "# Stop words removal\n",
    "stop_words = set(stopwords.words('english'))\n",
    "train['No_Stopwords'] = train['Tokenized'].apply(lambda x: [word for word in x if word not in stop_words])\n",
    "\n",
    "# Stemming\n",
    "train['Stemmed'] = train['No_Stopwords'].apply(lambda x: [stemmer.stem(word) for word in x])\n",
    "\n",
    "# Lemmatization\n",
    "train['Lemmatized'] = train['No_Stopwords'].apply(lambda x: [lemmatizer.lemmatize(word) for word in x])\n",
    "\n",
    "train['new_text_cleaned_l'] = train['Lemmatized'].apply(lambda words: ' '.join(words) )\n",
    "\n",
    "train['new_text_cleaned_s'] = train['Stemmed'].apply(lambda words: ' '.join(words) )"
   ]
  },
  {
   "cell_type": "code",
   "execution_count": 84,
   "id": "24dad3b4-3dc3-4c34-900a-6e07f6db752c",
   "metadata": {},
   "outputs": [
    {
     "data": {
      "text/html": [
       "<div>\n",
       "<style scoped>\n",
       "    .dataframe tbody tr th:only-of-type {\n",
       "        vertical-align: middle;\n",
       "    }\n",
       "\n",
       "    .dataframe tbody tr th {\n",
       "        vertical-align: top;\n",
       "    }\n",
       "\n",
       "    .dataframe thead th {\n",
       "        text-align: right;\n",
       "    }\n",
       "</style>\n",
       "<table border=\"1\" class=\"dataframe\">\n",
       "  <thead>\n",
       "    <tr style=\"text-align: right;\">\n",
       "      <th></th>\n",
       "      <th>sentiment</th>\n",
       "      <th>message</th>\n",
       "      <th>tweetid</th>\n",
       "      <th>Lowercased</th>\n",
       "      <th>No_Punctuation</th>\n",
       "      <th>Tokenized</th>\n",
       "      <th>No_Stopwords</th>\n",
       "      <th>Stemmed</th>\n",
       "      <th>Lemmatized</th>\n",
       "      <th>new_text_cleaned_l</th>\n",
       "      <th>new_text_cleaned_s</th>\n",
       "    </tr>\n",
       "  </thead>\n",
       "  <tbody>\n",
       "    <tr>\n",
       "      <th>0</th>\n",
       "      <td>1</td>\n",
       "      <td>PolySciMajor EPA chief doesnt think carbon dio...</td>\n",
       "      <td>625221</td>\n",
       "      <td>polyscimajor epa chief doesnt think carbon dio...</td>\n",
       "      <td>polyscimajor epa chief doesnt think carbon dio...</td>\n",
       "      <td>[polyscimajor, epa, chief, doesnt, think, carb...</td>\n",
       "      <td>[polyscimajor, epa, chief, doesnt, think, carb...</td>\n",
       "      <td>[polyscimajor, epa, chief, doesnt, think, carb...</td>\n",
       "      <td>[polyscimajor, epa, chief, doesnt, think, carb...</td>\n",
       "      <td>polyscimajor epa chief doesnt think carbon dio...</td>\n",
       "      <td>polyscimajor epa chief doesnt think carbon dio...</td>\n",
       "    </tr>\n",
       "    <tr>\n",
       "      <th>1</th>\n",
       "      <td>1</td>\n",
       "      <td>Its not like we lack evidence of anthropogenic...</td>\n",
       "      <td>126103</td>\n",
       "      <td>its not like we lack evidence of anthropogenic...</td>\n",
       "      <td>its not like we lack evidence of anthropogenic...</td>\n",
       "      <td>[its, not, like, we, lack, evidence, of, anthr...</td>\n",
       "      <td>[like, lack, evidence, anthropogenic, global, ...</td>\n",
       "      <td>[like, lack, evid, anthropogen, global, warm]</td>\n",
       "      <td>[like, lack, evidence, anthropogenic, global, ...</td>\n",
       "      <td>like lack evidence anthropogenic global warming</td>\n",
       "      <td>like lack evid anthropogen global warm</td>\n",
       "    </tr>\n",
       "    <tr>\n",
       "      <th>2</th>\n",
       "      <td>2</td>\n",
       "      <td>RT  Researchers say we have three years to act...</td>\n",
       "      <td>698562</td>\n",
       "      <td>rt  researchers say we have three years to act...</td>\n",
       "      <td>rt  researchers say we have three years to act...</td>\n",
       "      <td>[rt, researchers, say, we, have, three, years,...</td>\n",
       "      <td>[rt, researchers, say, three, years, act, clim...</td>\n",
       "      <td>[rt, research, say, three, year, act, climat, ...</td>\n",
       "      <td>[rt, researcher, say, three, year, act, climat...</td>\n",
       "      <td>rt researcher say three year act climate chang...</td>\n",
       "      <td>rt research say three year act climat chang la...</td>\n",
       "    </tr>\n",
       "    <tr>\n",
       "      <th>3</th>\n",
       "      <td>1</td>\n",
       "      <td>TodayinMaker WIRED  2016 was a pivotal year in...</td>\n",
       "      <td>573736</td>\n",
       "      <td>todayinmaker wired  2016 was a pivotal year in...</td>\n",
       "      <td>todayinmaker wired  2016 was a pivotal year in...</td>\n",
       "      <td>[todayinmaker, wired, 2016, was, a, pivotal, y...</td>\n",
       "      <td>[todayinmaker, wired, 2016, pivotal, year, war...</td>\n",
       "      <td>[todayinmak, wire, 2016, pivot, year, war, cli...</td>\n",
       "      <td>[todayinmaker, wired, 2016, pivotal, year, war...</td>\n",
       "      <td>todayinmaker wired 2016 pivotal year war clima...</td>\n",
       "      <td>todayinmak wire 2016 pivot year war climat cha...</td>\n",
       "    </tr>\n",
       "    <tr>\n",
       "      <th>4</th>\n",
       "      <td>1</td>\n",
       "      <td>RT  Its 2016 and a racist sexist climate chang...</td>\n",
       "      <td>466954</td>\n",
       "      <td>rt  its 2016 and a racist sexist climate chang...</td>\n",
       "      <td>rt  its 2016 and a racist sexist climate chang...</td>\n",
       "      <td>[rt, its, 2016, and, a, racist, sexist, climat...</td>\n",
       "      <td>[rt, 2016, racist, sexist, climate, change, de...</td>\n",
       "      <td>[rt, 2016, racist, sexist, climat, chang, deni...</td>\n",
       "      <td>[rt, 2016, racist, sexist, climate, change, de...</td>\n",
       "      <td>rt 2016 racist sexist climate change denying b...</td>\n",
       "      <td>rt 2016 racist sexist climat chang deni bigot ...</td>\n",
       "    </tr>\n",
       "  </tbody>\n",
       "</table>\n",
       "</div>"
      ],
      "text/plain": [
       "   sentiment                                            message  tweetid  \\\n",
       "0          1  PolySciMajor EPA chief doesnt think carbon dio...   625221   \n",
       "1          1  Its not like we lack evidence of anthropogenic...   126103   \n",
       "2          2  RT  Researchers say we have three years to act...   698562   \n",
       "3          1  TodayinMaker WIRED  2016 was a pivotal year in...   573736   \n",
       "4          1  RT  Its 2016 and a racist sexist climate chang...   466954   \n",
       "\n",
       "                                          Lowercased  \\\n",
       "0  polyscimajor epa chief doesnt think carbon dio...   \n",
       "1  its not like we lack evidence of anthropogenic...   \n",
       "2  rt  researchers say we have three years to act...   \n",
       "3  todayinmaker wired  2016 was a pivotal year in...   \n",
       "4  rt  its 2016 and a racist sexist climate chang...   \n",
       "\n",
       "                                      No_Punctuation  \\\n",
       "0  polyscimajor epa chief doesnt think carbon dio...   \n",
       "1  its not like we lack evidence of anthropogenic...   \n",
       "2  rt  researchers say we have three years to act...   \n",
       "3  todayinmaker wired  2016 was a pivotal year in...   \n",
       "4  rt  its 2016 and a racist sexist climate chang...   \n",
       "\n",
       "                                           Tokenized  \\\n",
       "0  [polyscimajor, epa, chief, doesnt, think, carb...   \n",
       "1  [its, not, like, we, lack, evidence, of, anthr...   \n",
       "2  [rt, researchers, say, we, have, three, years,...   \n",
       "3  [todayinmaker, wired, 2016, was, a, pivotal, y...   \n",
       "4  [rt, its, 2016, and, a, racist, sexist, climat...   \n",
       "\n",
       "                                        No_Stopwords  \\\n",
       "0  [polyscimajor, epa, chief, doesnt, think, carb...   \n",
       "1  [like, lack, evidence, anthropogenic, global, ...   \n",
       "2  [rt, researchers, say, three, years, act, clim...   \n",
       "3  [todayinmaker, wired, 2016, pivotal, year, war...   \n",
       "4  [rt, 2016, racist, sexist, climate, change, de...   \n",
       "\n",
       "                                             Stemmed  \\\n",
       "0  [polyscimajor, epa, chief, doesnt, think, carb...   \n",
       "1      [like, lack, evid, anthropogen, global, warm]   \n",
       "2  [rt, research, say, three, year, act, climat, ...   \n",
       "3  [todayinmak, wire, 2016, pivot, year, war, cli...   \n",
       "4  [rt, 2016, racist, sexist, climat, chang, deni...   \n",
       "\n",
       "                                          Lemmatized  \\\n",
       "0  [polyscimajor, epa, chief, doesnt, think, carb...   \n",
       "1  [like, lack, evidence, anthropogenic, global, ...   \n",
       "2  [rt, researcher, say, three, year, act, climat...   \n",
       "3  [todayinmaker, wired, 2016, pivotal, year, war...   \n",
       "4  [rt, 2016, racist, sexist, climate, change, de...   \n",
       "\n",
       "                                  new_text_cleaned_l  \\\n",
       "0  polyscimajor epa chief doesnt think carbon dio...   \n",
       "1    like lack evidence anthropogenic global warming   \n",
       "2  rt researcher say three year act climate chang...   \n",
       "3  todayinmaker wired 2016 pivotal year war clima...   \n",
       "4  rt 2016 racist sexist climate change denying b...   \n",
       "\n",
       "                                  new_text_cleaned_s  \n",
       "0  polyscimajor epa chief doesnt think carbon dio...  \n",
       "1             like lack evid anthropogen global warm  \n",
       "2  rt research say three year act climat chang la...  \n",
       "3  todayinmak wire 2016 pivot year war climat cha...  \n",
       "4  rt 2016 racist sexist climat chang deni bigot ...  "
      ]
     },
     "execution_count": 84,
     "metadata": {},
     "output_type": "execute_result"
    }
   ],
   "source": [
    "train.head()"
   ]
  },
  {
   "cell_type": "markdown",
   "id": "92e0ebbc-a551-4b09-9fb5-8d80e2bb77df",
   "metadata": {},
   "source": [
    "## Scikit-learn"
   ]
  },
  {
   "cell_type": "code",
   "execution_count": 95,
   "id": "00691db1-0f3d-4809-b527-76ec47bb529f",
   "metadata": {},
   "outputs": [
    {
     "name": "stdout",
     "output_type": "stream",
     "text": [
      "CountVectorizer Matrix:\n",
      "[[0 0 0 ... 0 0 0]\n",
      " [0 0 0 ... 0 0 0]\n",
      " [0 0 0 ... 0 0 0]\n",
      " ...\n",
      " [0 0 0 ... 0 0 0]\n",
      " [0 0 0 ... 0 0 0]\n",
      " [0 0 0 ... 0 0 0]]\n"
     ]
    }
   ],
   "source": [
    "from sklearn.feature_extraction.text import CountVectorizer\n",
    "\n",
    "# Create a CountVectorizer instance\n",
    "vectorizer = CountVectorizer(ngram_range=(1, 3))\n",
    "\n",
    "# Fit and transform the documents\n",
    "X = vectorizer.fit_transform(train['new_text_cleaned_s'])\n",
    "\n",
    "# Print the CountVectorizer matrix and feature names\n",
    "print(\"CountVectorizer Matrix:\")\n",
    "print(X.toarray())"
   ]
  },
  {
   "cell_type": "code",
   "execution_count": 96,
   "id": "c0846091-91d1-4a14-a24e-61215af1af65",
   "metadata": {},
   "outputs": [],
   "source": [
    "# split up  data\n",
    "from sklearn.model_selection import train_test_split\n",
    "sentiments = train['sentiment']\n",
    "\n",
    "X_train, X_test, y_train, y_test = train_test_split(X, sentiments, test_size = 0.2, random_state = 42)"
   ]
  },
  {
   "cell_type": "code",
   "execution_count": 97,
   "id": "716a9159-cd88-490a-88e0-b9af8ac26abd",
   "metadata": {
    "scrolled": true
   },
   "outputs": [
    {
     "name": "stdout",
     "output_type": "stream",
     "text": [
      "Class Distribution:\n",
      "sentiment\n",
      " 1    8530\n",
      " 2    3640\n",
      " 0    2353\n",
      "-1    1296\n",
      "Name: count, dtype: int64\n",
      "Individual Class Metrics:\n",
      "              precision    recall  f1-score   support\n",
      "\n",
      "        Anti       0.71      0.39      0.50       278\n",
      "     Neutral       0.52      0.50      0.51       425\n",
      "         Pro       0.79      0.81      0.80      1755\n",
      "        News       0.72      0.81      0.76       706\n",
      "\n",
      "    accuracy                           0.73      3164\n",
      "   macro avg       0.68      0.63      0.64      3164\n",
      "weighted avg       0.73      0.73      0.73      3164\n",
      "\n",
      "Overall Accuracy: 0.7319848293299621\n",
      "Cross-validation Scores (F1 macro): [0.9299556  0.92621203 0.93922603 0.93925148 0.93894154]\n",
      "Mean F1 macro: 0.9347173372353735\n"
     ]
    }
   ],
   "source": [
    "# Define the logistic regression model\n",
    "class_weights = class_weight.compute_class_weight('balanced', classes=sentiments.unique(), y=sentiments)\n",
    "lr_model = LogisticRegression(max_iter=16000, class_weight=dict(zip(range(-1, 3), class_weights)))\n",
    "\n",
    "# Resample the training data using Random Oversampling\n",
    "ros = RandomOverSampler()\n",
    "X_train_resampled, y_train_resampled = ros.fit_resample(X_train, y_train)\n",
    "\n",
    "# Train the model\n",
    "lr_model.fit(X_train_resampled, y_train_resampled)\n",
    "\n",
    "# Make predictions on the test set\n",
    "y_pred = lr_model.predict(X_test)\n",
    "\n",
    "# Calculate classification report\n",
    "report = classification_report(y_test, y_pred, target_names=['Anti', 'Neutral', 'Pro', 'News'])\n",
    "\n",
    "# Perform cross-validation\n",
    "cv_scores = cross_val_score(lr_model, X_train_resampled, y_train_resampled, cv=5, scoring='f1_macro')\n",
    "\n",
    "# Calculate accuracy\n",
    "accuracy = accuracy_score(y_test, y_pred)\n",
    "\n",
    "# Print class distribution\n",
    "print(\"Class Distribution:\")\n",
    "print(train['sentiment'].value_counts())\n",
    "\n",
    "# Print individual class metrics\n",
    "print(\"Individual Class Metrics:\")\n",
    "print(report)\n",
    "\n",
    "# Print overall accuracy\n",
    "print(\"Overall Accuracy:\", accuracy)\n",
    "\n",
    "# Print cross-validation scores\n",
    "print(\"Cross-validation Scores (F1 macro):\", cv_scores)\n",
    "print(\"Mean F1 macro:\", np.mean(cv_scores))"
   ]
  },
  {
   "cell_type": "code",
   "execution_count": 104,
   "id": "122c8081-19d8-4df3-8e5d-e2f040dd02a8",
   "metadata": {},
   "outputs": [
    {
     "data": {
      "text/plain": [
       "<Axes: title={'center': 'Confusion Matrix'}, xlabel='Predicted label', ylabel='True label'>"
      ]
     },
     "execution_count": 104,
     "metadata": {},
     "output_type": "execute_result"
    },
    {
     "data": {
      "image/png": "[encoded data removed]",
      "text/plain": [
       "<Figure size 640x480 with 2 Axes>"
      ]
     },
     "metadata": {},
     "output_type": "display_data"
    }
   ],
   "source": [
    "from sklearn.metrics import confusion_matrix\n",
    "import matplotlib.pyplot as plt\n",
    "\n",
    "# Function to plot Confusion Matrix\n",
    "def plot_confusion_matrix(y_true, y_pred, classes, normalize=False, title=None, cmap=plt.cm.Blues):\n",
    "    if not title:\n",
    "        if normalize:\n",
    "            title = 'Normalized Confusion Matrix'\n",
    "        else:\n",
    "            title = 'Confusion Matrix'\n",
    "\n",
    "    # Compute confusion matrix\n",
    "    cm = confusion_matrix(y_true, y_pred)\n",
    "    \n",
    "    if normalize:\n",
    "        cm = cm.astype('float') / cm.sum(axis=1)[:, np.newaxis]\n",
    "\n",
    "    fig, ax = plt.subplots()\n",
    "    im = ax.imshow(cm, interpolation='nearest', cmap=cmap)\n",
    "    ax.figure.colorbar(im, ax=ax)\n",
    "    ax.set(xticks=np.arange(cm.shape[1]),\n",
    "           yticks=np.arange(cm.shape[0]),\n",
    "           xticklabels=classes, yticklabels=classes,\n",
    "           title=title,\n",
    "           ylabel='True label',\n",
    "           xlabel='Predicted label')\n",
    "\n",
    "    # Rotate the tick labels and set their alignment.\n",
    "    plt.setp(ax.get_xticklabels(), rotation=45, ha=\"right\",\n",
    "             rotation_mode=\"anchor\")\n",
    "\n",
    "    # Loop over data dimensions and create text annotations.\n",
    "    fmt = '.2f' if normalize else 'd'\n",
    "    thresh = cm.max() / 2.\n",
    "    for i in range(cm.shape[0]):\n",
    "        for j in range(cm.shape[1]):\n",
    "            ax.text(j, i, format(cm[i, j], fmt),\n",
    "                    ha=\"center\", va=\"center\",\n",
    "                    color=\"white\" if cm[i, j] > thresh else \"black\")\n",
    "    fig.tight_layout()\n",
    "    return ax\n",
    "    \n",
    "# Plot non-normalized confusion matrix\n",
    "plot_confusion_matrix(y_test, y_pred, classes=['Anti', 'Neutral', 'Pro', 'News'], title='Confusion Matrix')\n"
   ]
  },
  {
   "cell_type": "code",
   "execution_count": 109,
   "id": "6fffedec-b260-47c3-a956-a0194d24bdad",
   "metadata": {},
   "outputs": [
    {
     "data": {
      "image/png": "[encoded data removed]",
      "text/plain": [
       "<Figure size 640x480 with 1 Axes>"
      ]
     },
     "metadata": {},
     "output_type": "display_data"
    }
   ],
   "source": [
    "from sklearn.preprocessing import label_binarize\n",
    "\n",
    "# Define the sentiment names\n",
    "sentiment_names = {\n",
    "    0: 'Anti',\n",
    "    1: 'Neutral',\n",
    "    2: 'Pro',\n",
    "    3: 'News'\n",
    "}\n",
    "\n",
    "# Plot ROC curve for each class with sentiment names\n",
    "plt.figure()\n",
    "colors = ['blue', 'green', 'red', 'purple']\n",
    "for i, color in zip(range(len(fpr)), colors):\n",
    "    plt.plot(fpr[i], tpr[i], color=color, lw=2,\n",
    "             label='ROC curve of {0} (area = {1:0.2f})'\n",
    "             ''.format(sentiment_names[i], roc_auc[i]))\n",
    "\n",
    "plt.plot([0, 1], [0, 1], 'k--', lw=2)\n",
    "plt.xlim([0.0, 1.0])\n",
    "plt.ylim([0.0, 1.05])\n",
    "plt.xlabel('False Positive Rate')\n",
    "plt.ylabel('True Positive Rate')\n",
    "plt.title('Receiver Operating Characteristic (ROC) Curve for each sentiment')\n",
    "plt.legend(loc=\"lower right\")\n",
    "plt.show()"
   ]
  },
  {
   "cell_type": "code",
   "execution_count": null,
   "id": "b6604108-c5fc-438c-85fa-8a5dc52ca84e",
   "metadata": {},
   "outputs": [],
   "source": []
  },
  {
   "cell_type": "markdown",
   "id": "57f33fea-6f7c-47e7-b9fd-6b0c351df6aa",
   "metadata": {},
   "source": [
    "## Create a  \".CSV\" File"
   ]
  },
  {
   "cell_type": "code",
   "execution_count": 114,
   "id": "42bf28fd-cc59-4ba9-bd1a-92f662d77c95",
   "metadata": {},
   "outputs": [],
   "source": [
    "# Initialize stemmer and lemmatizer\n",
    "stemmer = PorterStemmer()\n",
    "lemmatizer = WordNetLemmatizer()\n",
    "\n",
    "## Remove urls\n",
    "pattern_url = r'http[s]?://(?:[A-Za-z]|[0-9]|[$-_@.&+]|[!*\\(\\),]|(?:%[0-9A-Fa-f][0-9A-Fa-f]))+'\n",
    "subs_url = r'url-web'\n",
    "test['message'] = test['message'].replace(to_replace = pattern_url, value = subs_url, regex = True)\n",
    "\n",
    "## Remove mentions\n",
    "mention_pattern = r'@([^\\s:]+)'\n",
    "test['message'] = test['message'].replace(to_replace = mention_pattern, value = '', regex = True)\n",
    "\n",
    "# Remove special charecters using regular expressions\n",
    "pattern_special=r'[^a-zA-Z0-9\\s]'\n",
    "test['message'] = test['message'].replace(to_replace = pattern_special, value = '', regex = True)\n",
    "\n",
    "# Lowercasing\n",
    "test['Lowercased'] = test['message'].apply(lambda x: x.lower())\n",
    "\n",
    "# Removing punctuation\n",
    "test['No_Punctuation'] = test['Lowercased'].apply(lambda x: x.translate(str.maketrans('', '', string.punctuation)))\n",
    "\n",
    "# Tokenization\n",
    "test['Tokenized'] = test['No_Punctuation'].apply(lambda x: word_tokenize(x))\n",
    "\n",
    "# Stop words removal\n",
    "stop_words = set(stopwords.words('english'))\n",
    "test['No_Stopwords'] = test['Tokenized'].apply(lambda x: [word for word in x if word not in stop_words])\n",
    "\n",
    "# Stemming\n",
    "test['Stemmed'] = test['No_Stopwords'].apply(lambda x: [stemmer.stem(word) for word in x])\n",
    "\n",
    "# Lemmatization\n",
    "test['Lemmatized'] = test['No_Stopwords'].apply(lambda x: [lemmatizer.lemmatize(word) for word in x])\n",
    "\n",
    "test['new_text_cleaned_l'] = test['Lemmatized'].apply(lambda words: ' '.join(words) )\n",
    "\n",
    "test['new_text_cleaned_s'] = test['Stemmed'].apply(lambda words: ' '.join(words) )"
   ]
  },
  {
   "cell_type": "code",
   "execution_count": 115,
   "id": "66707cd6-500f-48cc-9bf1-58caf1cfc73e",
   "metadata": {},
   "outputs": [
    {
     "data": {
      "text/html": [
       "<div>\n",
       "<style scoped>\n",
       "    .dataframe tbody tr th:only-of-type {\n",
       "        vertical-align: middle;\n",
       "    }\n",
       "\n",
       "    .dataframe tbody tr th {\n",
       "        vertical-align: top;\n",
       "    }\n",
       "\n",
       "    .dataframe thead th {\n",
       "        text-align: right;\n",
       "    }\n",
       "</style>\n",
       "<table border=\"1\" class=\"dataframe\">\n",
       "  <thead>\n",
       "    <tr style=\"text-align: right;\">\n",
       "      <th></th>\n",
       "      <th>message</th>\n",
       "      <th>tweetid</th>\n",
       "      <th>Lowercased</th>\n",
       "      <th>No_Punctuation</th>\n",
       "      <th>Tokenized</th>\n",
       "      <th>No_Stopwords</th>\n",
       "      <th>Stemmed</th>\n",
       "      <th>Lemmatized</th>\n",
       "      <th>new_text_cleaned_l</th>\n",
       "      <th>new_text_cleaned_s</th>\n",
       "    </tr>\n",
       "  </thead>\n",
       "  <tbody>\n",
       "    <tr>\n",
       "      <th>0</th>\n",
       "      <td>Europe will now be looking to China to make su...</td>\n",
       "      <td>169760</td>\n",
       "      <td>europe will now be looking to china to make su...</td>\n",
       "      <td>europe will now be looking to china to make su...</td>\n",
       "      <td>[europe, will, now, be, looking, to, china, to...</td>\n",
       "      <td>[europe, looking, china, make, sure, alone, fi...</td>\n",
       "      <td>[europ, look, china, make, sure, alon, fight, ...</td>\n",
       "      <td>[europe, looking, china, make, sure, alone, fi...</td>\n",
       "      <td>europe looking china make sure alone fighting ...</td>\n",
       "      <td>europ look china make sure alon fight climat c...</td>\n",
       "    </tr>\n",
       "    <tr>\n",
       "      <th>1</th>\n",
       "      <td>Combine this with the polling of staffers re c...</td>\n",
       "      <td>35326</td>\n",
       "      <td>combine this with the polling of staffers re c...</td>\n",
       "      <td>combine this with the polling of staffers re c...</td>\n",
       "      <td>[combine, this, with, the, polling, of, staffe...</td>\n",
       "      <td>[combine, polling, staffers, climate, change, ...</td>\n",
       "      <td>[combin, poll, staffer, climat, chang, women, ...</td>\n",
       "      <td>[combine, polling, staffer, climate, change, w...</td>\n",
       "      <td>combine polling staffer climate change woman r...</td>\n",
       "      <td>combin poll staffer climat chang women right f...</td>\n",
       "    </tr>\n",
       "    <tr>\n",
       "      <th>2</th>\n",
       "      <td>The scary unimpeachable evidence that climate ...</td>\n",
       "      <td>224985</td>\n",
       "      <td>the scary unimpeachable evidence that climate ...</td>\n",
       "      <td>the scary unimpeachable evidence that climate ...</td>\n",
       "      <td>[the, scary, unimpeachable, evidence, that, cl...</td>\n",
       "      <td>[scary, unimpeachable, evidence, climate, chan...</td>\n",
       "      <td>[scari, unimpeach, evid, climat, chang, alread...</td>\n",
       "      <td>[scary, unimpeachable, evidence, climate, chan...</td>\n",
       "      <td>scary unimpeachable evidence climate change al...</td>\n",
       "      <td>scari unimpeach evid climat chang alreadi urlw...</td>\n",
       "    </tr>\n",
       "    <tr>\n",
       "      <th>3</th>\n",
       "      <td>\\nPutin got to you too Jill  \\nTrump doesn...</td>\n",
       "      <td>476263</td>\n",
       "      <td>\\nputin got to you too jill  \\ntrump doesn...</td>\n",
       "      <td>\\nputin got to you too jill  \\ntrump doesn...</td>\n",
       "      <td>[putin, got, to, you, too, jill, trump, doesnt...</td>\n",
       "      <td>[putin, got, jill, trump, doesnt, believe, cli...</td>\n",
       "      <td>[putin, got, jill, trump, doesnt, believ, clim...</td>\n",
       "      <td>[putin, got, jill, trump, doesnt, believe, cli...</td>\n",
       "      <td>putin got jill trump doesnt believe climate ch...</td>\n",
       "      <td>putin got jill trump doesnt believ climat chan...</td>\n",
       "    </tr>\n",
       "    <tr>\n",
       "      <th>4</th>\n",
       "      <td>RT  Female orgasms cause global warming\\nSarca...</td>\n",
       "      <td>872928</td>\n",
       "      <td>rt  female orgasms cause global warming\\nsarca...</td>\n",
       "      <td>rt  female orgasms cause global warming\\nsarca...</td>\n",
       "      <td>[rt, female, orgasms, cause, global, warming, ...</td>\n",
       "      <td>[rt, female, orgasms, cause, global, warming, ...</td>\n",
       "      <td>[rt, femal, orgasm, caus, global, warm, sarcas...</td>\n",
       "      <td>[rt, female, orgasm, cause, global, warming, s...</td>\n",
       "      <td>rt female orgasm cause global warming sarcasti...</td>\n",
       "      <td>rt femal orgasm caus global warm sarcast repub...</td>\n",
       "    </tr>\n",
       "  </tbody>\n",
       "</table>\n",
       "</div>"
      ],
      "text/plain": [
       "                                             message  tweetid  \\\n",
       "0  Europe will now be looking to China to make su...   169760   \n",
       "1  Combine this with the polling of staffers re c...    35326   \n",
       "2  The scary unimpeachable evidence that climate ...   224985   \n",
       "3      \\nPutin got to you too Jill  \\nTrump doesn...   476263   \n",
       "4  RT  Female orgasms cause global warming\\nSarca...   872928   \n",
       "\n",
       "                                          Lowercased  \\\n",
       "0  europe will now be looking to china to make su...   \n",
       "1  combine this with the polling of staffers re c...   \n",
       "2  the scary unimpeachable evidence that climate ...   \n",
       "3      \\nputin got to you too jill  \\ntrump doesn...   \n",
       "4  rt  female orgasms cause global warming\\nsarca...   \n",
       "\n",
       "                                      No_Punctuation  \\\n",
       "0  europe will now be looking to china to make su...   \n",
       "1  combine this with the polling of staffers re c...   \n",
       "2  the scary unimpeachable evidence that climate ...   \n",
       "3      \\nputin got to you too jill  \\ntrump doesn...   \n",
       "4  rt  female orgasms cause global warming\\nsarca...   \n",
       "\n",
       "                                           Tokenized  \\\n",
       "0  [europe, will, now, be, looking, to, china, to...   \n",
       "1  [combine, this, with, the, polling, of, staffe...   \n",
       "2  [the, scary, unimpeachable, evidence, that, cl...   \n",
       "3  [putin, got, to, you, too, jill, trump, doesnt...   \n",
       "4  [rt, female, orgasms, cause, global, warming, ...   \n",
       "\n",
       "                                        No_Stopwords  \\\n",
       "0  [europe, looking, china, make, sure, alone, fi...   \n",
       "1  [combine, polling, staffers, climate, change, ...   \n",
       "2  [scary, unimpeachable, evidence, climate, chan...   \n",
       "3  [putin, got, jill, trump, doesnt, believe, cli...   \n",
       "4  [rt, female, orgasms, cause, global, warming, ...   \n",
       "\n",
       "                                             Stemmed  \\\n",
       "0  [europ, look, china, make, sure, alon, fight, ...   \n",
       "1  [combin, poll, staffer, climat, chang, women, ...   \n",
       "2  [scari, unimpeach, evid, climat, chang, alread...   \n",
       "3  [putin, got, jill, trump, doesnt, believ, clim...   \n",
       "4  [rt, femal, orgasm, caus, global, warm, sarcas...   \n",
       "\n",
       "                                          Lemmatized  \\\n",
       "0  [europe, looking, china, make, sure, alone, fi...   \n",
       "1  [combine, polling, staffer, climate, change, w...   \n",
       "2  [scary, unimpeachable, evidence, climate, chan...   \n",
       "3  [putin, got, jill, trump, doesnt, believe, cli...   \n",
       "4  [rt, female, orgasm, cause, global, warming, s...   \n",
       "\n",
       "                                  new_text_cleaned_l  \\\n",
       "0  europe looking china make sure alone fighting ...   \n",
       "1  combine polling staffer climate change woman r...   \n",
       "2  scary unimpeachable evidence climate change al...   \n",
       "3  putin got jill trump doesnt believe climate ch...   \n",
       "4  rt female orgasm cause global warming sarcasti...   \n",
       "\n",
       "                                  new_text_cleaned_s  \n",
       "0  europ look china make sure alon fight climat c...  \n",
       "1  combin poll staffer climat chang women right f...  \n",
       "2  scari unimpeach evid climat chang alreadi urlw...  \n",
       "3  putin got jill trump doesnt believ climat chan...  \n",
       "4  rt femal orgasm caus global warm sarcast repub...  "
      ]
     },
     "execution_count": 115,
     "metadata": {},
     "output_type": "execute_result"
    }
   ],
   "source": [
    "test.head()"
   ]
  },
  {
   "cell_type": "code",
   "execution_count": 120,
   "id": "e9dfdeb5-f28e-42b9-8e90-699b01463279",
   "metadata": {},
   "outputs": [],
   "source": [
    "# Transform the preprocessed text into feature vectors\n",
    "X_test = vectorizer.transform(test['new_text_cleaned_s'])\n",
    "\n",
    "# Make predictions on the test data\n",
    "test_predictions = lr_model.predict(X_test)\n",
    "\n",
    "# Create a DataFrame with tweetid and predictions\n",
    "results_df = pd.DataFrame({'tweetid': test['tweetid'], 'sentiment': test_predictions})\n",
    "\n",
    "# Export the DataFrame to a CSV file\n",
    "results_df.to_csv('test_predictions.csv', index=False)"
   ]
  }
 ],
 "metadata": {
  "kernelspec": {
   "display_name": "Python 3 (ipykernel)",
   "language": "python",
   "name": "python3"
  },
  "language_info": {
   "codemirror_mode": {
    "name": "ipython",
    "version": 3
   },
   "file_extension": ".py",
   "mimetype": "text/x-python",
   "name": "python",
   "nbconvert_exporter": "python",
   "pygments_lexer": "ipython3",
   "version": "3.10.8"
  }
 },
 "nbformat": 4,
 "nbformat_minor": 5
}
